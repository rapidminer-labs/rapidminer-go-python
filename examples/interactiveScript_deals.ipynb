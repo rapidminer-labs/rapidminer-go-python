{
 "cells": [
  {
   "cell_type": "code",
   "execution_count": 1,
   "metadata": {},
   "outputs": [],
   "source": [
    "from rapidminer_go_python import rapidminergoclient as rmgo\n",
    "import pandas as pd\n",
    "from pandas.io.json import json_normalize"
   ]
  },
  {
   "cell_type": "code",
   "execution_count": 2,
   "metadata": {},
   "outputs": [],
   "source": [
    "LABEL_ATTRIBUTE = \"FutureCustomer\"\n",
    "DATA_ID = 'id'\n",
    "AUTOMODEL_URL = \"https://go.rapidminer.com\"\n",
    "USER_ID = \"\"\n",
    "PASSWORD = \"\"\n",
    "selection_criteria = 'performance_accuracy'\n",
    "analysis_name = 'Deals'\n",
    "AUTODEPLOY = True\n",
    "max_min_crietria_selector = 'max'"
   ]
  },
  {
   "cell_type": "code",
   "execution_count": 3,
   "metadata": {},
   "outputs": [],
   "source": [
    "data = pd.read_csv(\"C:\\\\Users\\\\VenkateshkumarSivaku\\\\Desktop\\\\Interactive data\\\\Deals-Training.csv\")"
   ]
  },
  {
   "cell_type": "code",
   "execution_count": 4,
   "metadata": {},
   "outputs": [
    {
     "name": "stdout",
     "output_type": "stream",
     "text": [
      "password found\n",
      "Successfully connected to the Server\n"
     ]
    }
   ],
   "source": [
    "#To get the RapidminerGo instance\n",
    "client = rmgo.RapidMinerGoClient(AUTOMODEL_URL, USER_ID, PASSWORD)"
   ]
  },
  {
   "cell_type": "markdown",
   "metadata": {},
   "source": [
    "# Quick Training:"
   ]
  },
  {
   "cell_type": "code",
   "execution_count": 5,
   "metadata": {},
   "outputs": [
    {
     "name": "stdout",
     "output_type": "stream",
     "text": [
      "Successfully uploaded data\n",
      "Please remember the following file ID\n",
      "2e95d8c3-ad1f-419a-9583-81554cf275c4\n",
      "2e95d8c3-ad1f-419a-9583-81554cf275c4\n",
      "Successfully created modeling task\n",
      "{'id': 'd997d286-5325-465e-9479-0f4611b137d2', 'ownerId': 'cf8f9e19-5936-4ff5-9085-283f82f77fc7', 'dataId': '2e95d8c3-ad1f-419a-9583-81554cf275c4', 'dataName': 'Deals.json', 'createdAt': 'Mar 25, 2020 9:04:43 PM', 'displayName': 'Predicting ${label} in Deals.json', 'deployedModels': []}\n",
      "Successfully set Target Label!\n",
      "Starting execution\n",
      "Got execution result for   WEIGHTS\n",
      "Got execution result for   NAIVE_BAYES\n",
      "Got execution result for   GLM\n",
      "Got execution result for   LOGREG\n",
      "Got execution result for   DEEP_LEARNING\n",
      "Got execution result for   DECISION_TREE\n",
      "Got execution result for   RANDOM_FOREST\n",
      "Got execution result for   GBT\n",
      "Got execution result for   SVM\n",
      "Got execution result for   FLM\n",
      "Inside determine_best_model function\n",
      "['performance', 'percentages', 'accuracy']\n",
      "check model : WEIGHTS\n",
      "Wrong feature:performance not available in the result\n",
      "check model : NAIVE_BAYES\n",
      "95.79\n",
      "True\n",
      "check model : GLM\n",
      "97.56\n",
      "True\n",
      "check model : LOGREG\n",
      "97.21\n",
      "False\n",
      "check model : DEEP_LEARNING\n",
      "97.91\n",
      "True\n",
      "check model : DECISION_TREE\n",
      "93.02\n",
      "False\n",
      "check model : RANDOM_FOREST\n",
      "95.81\n",
      "False\n",
      "check model : GBT\n",
      "98.60\n",
      "True\n",
      "check model : SVM\n",
      "96.51\n",
      "False\n",
      "check model : FLM\n",
      "90.88\n",
      "False\n",
      "Exiting determine_best_model function with BestModel:GBT\n",
      "\n",
      "\n",
      "Deployed GBT :\n",
      " {\n",
      "    \"createdAt\": \"Mar 25, 2020 9:05:38 PM\",\n",
      "    \"displayName\": \"Predicting FutureCustomer in Deals.json\",\n",
      "    \"id\": \"cc661a58-7254-4f34-9fd6-a3081899eccb\",\n",
      "    \"modelType\": \"GBT\",\n",
      "    \"modelingTaskId\": \"d997d286-5325-465e-9479-0f4611b137d2\",\n",
      "    \"modelingTaskLabel\": \"FutureCustomer\",\n",
      "    \"ownerId\": \"cf8f9e19-5936-4ff5-9085-283f82f77fc7\",\n",
      "    \"url\": \"/am/api/deployments/cc661a58-7254-4f34-9fd6-a3081899eccb\"\n",
      "}\n",
      "DeploymentID:cc661a58-7254-4f34-9fd6-a3081899eccb\n"
     ]
    },
    {
     "data": {
      "text/plain": [
       "{'Modeling_ID': 'd997d286-5325-465e-9479-0f4611b137d2',\n",
       " 'DeploymentID': 'cc661a58-7254-4f34-9fd6-a3081899eccb',\n",
       " 'Deployment_Status': 'Success',\n",
       " 'Deployed_Model': 'GBT',\n",
       " 'URL': 'https://go-develop.rapidminer.com/am/modeling/d997d286-5325-465e-9479-0f4611b137d2/results'}"
      ]
     },
     "execution_count": 5,
     "metadata": {},
     "output_type": "execute_result"
    }
   ],
   "source": [
    "client.quick_automodel(data,LABEL_ATTRIBUTE,AUTODEPLOY,selection_criteria,max_min_crietria_selector, analysis_name)"
   ]
  },
  {
   "cell_type": "markdown",
   "metadata": {},
   "source": [
    "# Training:"
   ]
  },
  {
   "cell_type": "code",
   "execution_count": 6,
   "metadata": {},
   "outputs": [
    {
     "name": "stdout",
     "output_type": "stream",
     "text": [
      "Successfully uploaded data\n",
      "Please remember the following file ID\n",
      "63a58d18-b7dc-4879-a989-abb2c0e035e1\n",
      "Successfully created modeling task\n"
     ]
    }
   ],
   "source": [
    "dataId = client.upload_json(data, analysis_name)[DATA_ID]\n",
    "modelingTaskID = client.create_modeling_task(dataId)[DATA_ID]"
   ]
  },
  {
   "cell_type": "code",
   "execution_count": 7,
   "metadata": {},
   "outputs": [
    {
     "name": "stdout",
     "output_type": "stream",
     "text": [
      "Successfully set Target Label!\n"
     ]
    }
   ],
   "source": [
    "client.set_label(modelingTaskID, LABEL_ATTRIBUTE)"
   ]
  },
  {
   "cell_type": "code",
   "execution_count": 8,
   "metadata": {},
   "outputs": [
    {
     "name": "stdout",
     "output_type": "stream",
     "text": [
      "Success set class of interest!\n"
     ]
    }
   ],
   "source": [
    "client.set_class_interest(modelingTaskID, 'Yes', 'No')"
   ]
  },
  {
   "cell_type": "code",
   "execution_count": 9,
   "metadata": {},
   "outputs": [
    {
     "name": "stdout",
     "output_type": "stream",
     "text": [
      "Success! Cost Matrix updated\n"
     ]
    }
   ],
   "source": [
    "jsonVal = client.set_cost_matrix(modelingTaskID, [[1, -1], [-1, 1]])"
   ]
  },
  {
   "cell_type": "code",
   "execution_count": 10,
   "metadata": {},
   "outputs": [
    {
     "data": {
      "text/html": [
       "<div>\n",
       "<style scoped>\n",
       "    .dataframe tbody tr th:only-of-type {\n",
       "        vertical-align: middle;\n",
       "    }\n",
       "\n",
       "    .dataframe tbody tr th {\n",
       "        vertical-align: top;\n",
       "    }\n",
       "\n",
       "    .dataframe thead th {\n",
       "        text-align: right;\n",
       "    }\n",
       "</style>\n",
       "<table border=\"1\" class=\"dataframe\">\n",
       "  <thead>\n",
       "    <tr style=\"text-align: right;\">\n",
       "      <th></th>\n",
       "      <th>attributeName</th>\n",
       "      <th>selected</th>\n",
       "      <th>modelAttributeStatistics.correlation</th>\n",
       "      <th>modelAttributeStatistics.idness</th>\n",
       "      <th>modelAttributeStatistics.stability</th>\n",
       "      <th>modelAttributeStatistics.missingness</th>\n",
       "      <th>modelAttributeStatistics.status</th>\n",
       "      <th>modelAttributeStatistics.qualityTag</th>\n",
       "    </tr>\n",
       "  </thead>\n",
       "  <tbody>\n",
       "    <tr>\n",
       "      <td>0</td>\n",
       "      <td>PaymentMethod</td>\n",
       "      <td>True</td>\n",
       "      <td>16.75%</td>\n",
       "      <td>0.30%</td>\n",
       "      <td>65.20%</td>\n",
       "      <td>0.00%</td>\n",
       "      <td>GREEN</td>\n",
       "      <td>OK</td>\n",
       "    </tr>\n",
       "    <tr>\n",
       "      <td>1</td>\n",
       "      <td>Gender</td>\n",
       "      <td>True</td>\n",
       "      <td>22.51%</td>\n",
       "      <td>0.20%</td>\n",
       "      <td>55.00%</td>\n",
       "      <td>0.00%</td>\n",
       "      <td>GREEN</td>\n",
       "      <td>OK</td>\n",
       "    </tr>\n",
       "    <tr>\n",
       "      <td>2</td>\n",
       "      <td>Age</td>\n",
       "      <td>True</td>\n",
       "      <td>28.17%</td>\n",
       "      <td>?</td>\n",
       "      <td>2.90%</td>\n",
       "      <td>0.00%</td>\n",
       "      <td>GREEN</td>\n",
       "      <td>OK</td>\n",
       "    </tr>\n",
       "  </tbody>\n",
       "</table>\n",
       "</div>"
      ],
      "text/plain": [
       "   attributeName  selected modelAttributeStatistics.correlation  \\\n",
       "0  PaymentMethod      True                               16.75%   \n",
       "1         Gender      True                               22.51%   \n",
       "2            Age      True                               28.17%   \n",
       "\n",
       "  modelAttributeStatistics.idness modelAttributeStatistics.stability  \\\n",
       "0                           0.30%                             65.20%   \n",
       "1                           0.20%                             55.00%   \n",
       "2                               ?                              2.90%   \n",
       "\n",
       "  modelAttributeStatistics.missingness modelAttributeStatistics.status  \\\n",
       "0                                0.00%                           GREEN   \n",
       "1                                0.00%                           GREEN   \n",
       "2                                0.00%                           GREEN   \n",
       "\n",
       "  modelAttributeStatistics.qualityTag  \n",
       "0                                  OK  \n",
       "1                                  OK  \n",
       "2                                  OK  "
      ]
     },
     "execution_count": 10,
     "metadata": {},
     "output_type": "execute_result"
    }
   ],
   "source": [
    "#setting label\n",
    "dataInputs = json_normalize(jsonVal['modelInputs'])\n",
    "dataInputs"
   ]
  },
  {
   "cell_type": "code",
   "execution_count": 11,
   "metadata": {},
   "outputs": [
    {
     "name": "stdout",
     "output_type": "stream",
     "text": [
      "Please wait for the process to complete\n",
      "Got execution result for   WEIGHTS\n",
      "Got execution result for   NAIVE_BAYES\n",
      "Got execution result for   GLM\n",
      "Got execution result for   LOGREG\n",
      "Got execution result for   DEEP_LEARNING\n",
      "Got execution result for   DECISION_TREE\n",
      "Got execution result for   RANDOM_FOREST\n",
      "Got execution result for   GBT\n",
      "Got execution result for   SVM\n",
      "Got execution result for   FLM\n",
      "Process completed\n"
     ]
    }
   ],
   "source": [
    "# Initiating model training\n",
    "client.start_execution(modelingTaskID)\n",
    "\n",
    "print('Please wait for the process to complete')\n",
    "\n",
    "# Obtaining the trained model results\n",
    "allResults = client.get_execution_result(modelingTaskID)\n",
    "\n",
    "print('Process completed')"
   ]
  },
  {
   "cell_type": "code",
   "execution_count": 12,
   "metadata": {},
   "outputs": [
    {
     "name": "stdout",
     "output_type": "stream",
     "text": [
      "check:NAIVE_BAYES\n",
      "check:GLM\n",
      "check:LOGREG\n",
      "check:DEEP_LEARNING\n",
      "check:DECISION_TREE\n",
      "check:RANDOM_FOREST\n",
      "check:GBT\n",
      "check:SVM\n",
      "check:FLM\n"
     ]
    },
    {
     "data": {
      "text/html": [
       "<div>\n",
       "<style scoped>\n",
       "    .dataframe tbody tr th:only-of-type {\n",
       "        vertical-align: middle;\n",
       "    }\n",
       "\n",
       "    .dataframe tbody tr th {\n",
       "        vertical-align: top;\n",
       "    }\n",
       "\n",
       "    .dataframe thead th {\n",
       "        text-align: right;\n",
       "    }\n",
       "</style>\n",
       "<table border=\"1\" class=\"dataframe\">\n",
       "  <thead>\n",
       "    <tr style=\"text-align: right;\">\n",
       "      <th></th>\n",
       "      <th>f_measure</th>\n",
       "      <th>recall</th>\n",
       "      <th>precision</th>\n",
       "      <th>specificity</th>\n",
       "      <th>accuracy</th>\n",
       "      <th>sensitivity</th>\n",
       "      <th>classification_error</th>\n",
       "      <th>AUC</th>\n",
       "      <th>Model</th>\n",
       "    </tr>\n",
       "  </thead>\n",
       "  <tbody>\n",
       "    <tr>\n",
       "      <td>0</td>\n",
       "      <td>94.95%</td>\n",
       "      <td>90.40%</td>\n",
       "      <td>100.00%</td>\n",
       "      <td>100.00%</td>\n",
       "      <td>95.79%</td>\n",
       "      <td>90.40%</td>\n",
       "      <td>4.21%</td>\n",
       "      <td>0.992</td>\n",
       "      <td>NAIVE_BAYES</td>\n",
       "    </tr>\n",
       "    <tr>\n",
       "      <td>1</td>\n",
       "      <td>97.41%</td>\n",
       "      <td>95.79%</td>\n",
       "      <td>99.13%</td>\n",
       "      <td>99.41%</td>\n",
       "      <td>97.56%</td>\n",
       "      <td>95.79%</td>\n",
       "      <td>2.44%</td>\n",
       "      <td>0.999</td>\n",
       "      <td>GLM</td>\n",
       "    </tr>\n",
       "    <tr>\n",
       "      <td>2</td>\n",
       "      <td>97.07%</td>\n",
       "      <td>94.34%</td>\n",
       "      <td>100.00%</td>\n",
       "      <td>100.00%</td>\n",
       "      <td>97.21%</td>\n",
       "      <td>94.34%</td>\n",
       "      <td>2.79%</td>\n",
       "      <td>1.000</td>\n",
       "      <td>LOGREG</td>\n",
       "    </tr>\n",
       "    <tr>\n",
       "      <td>3</td>\n",
       "      <td>97.74%</td>\n",
       "      <td>96.42%</td>\n",
       "      <td>99.13%</td>\n",
       "      <td>99.41%</td>\n",
       "      <td>97.91%</td>\n",
       "      <td>96.42%</td>\n",
       "      <td>2.09%</td>\n",
       "      <td>0.999</td>\n",
       "      <td>DEEP_LEARNING</td>\n",
       "    </tr>\n",
       "    <tr>\n",
       "      <td>4</td>\n",
       "      <td>93.12%</td>\n",
       "      <td>97.34%</td>\n",
       "      <td>89.39%</td>\n",
       "      <td>89.12%</td>\n",
       "      <td>93.02%</td>\n",
       "      <td>97.34%</td>\n",
       "      <td>6.98%</td>\n",
       "      <td>0.974</td>\n",
       "      <td>DECISION_TREE</td>\n",
       "    </tr>\n",
       "    <tr>\n",
       "      <td>5</td>\n",
       "      <td>95.55%</td>\n",
       "      <td>91.60%</td>\n",
       "      <td>100.00%</td>\n",
       "      <td>100.00%</td>\n",
       "      <td>95.81%</td>\n",
       "      <td>91.60%</td>\n",
       "      <td>4.19%</td>\n",
       "      <td>1.000</td>\n",
       "      <td>RANDOM_FOREST</td>\n",
       "    </tr>\n",
       "    <tr>\n",
       "      <td>6</td>\n",
       "      <td>98.55%</td>\n",
       "      <td>97.15%</td>\n",
       "      <td>100.00%</td>\n",
       "      <td>100.00%</td>\n",
       "      <td>98.60%</td>\n",
       "      <td>97.15%</td>\n",
       "      <td>1.40%</td>\n",
       "      <td>1.000</td>\n",
       "      <td>GBT</td>\n",
       "    </tr>\n",
       "    <tr>\n",
       "      <td>7</td>\n",
       "      <td>96.09%</td>\n",
       "      <td>92.53%</td>\n",
       "      <td>100.00%</td>\n",
       "      <td>100.00%</td>\n",
       "      <td>96.51%</td>\n",
       "      <td>92.53%</td>\n",
       "      <td>3.49%</td>\n",
       "      <td>0.996</td>\n",
       "      <td>SVM</td>\n",
       "    </tr>\n",
       "    <tr>\n",
       "      <td>8</td>\n",
       "      <td>88.74%</td>\n",
       "      <td>79.91%</td>\n",
       "      <td>100.00%</td>\n",
       "      <td>100.00%</td>\n",
       "      <td>90.88%</td>\n",
       "      <td>79.91%</td>\n",
       "      <td>9.12%</td>\n",
       "      <td>0.991</td>\n",
       "      <td>FLM</td>\n",
       "    </tr>\n",
       "  </tbody>\n",
       "</table>\n",
       "</div>"
      ],
      "text/plain": [
       "  f_measure  recall precision specificity accuracy sensitivity  \\\n",
       "0    94.95%  90.40%   100.00%     100.00%   95.79%      90.40%   \n",
       "1    97.41%  95.79%    99.13%      99.41%   97.56%      95.79%   \n",
       "2    97.07%  94.34%   100.00%     100.00%   97.21%      94.34%   \n",
       "3    97.74%  96.42%    99.13%      99.41%   97.91%      96.42%   \n",
       "4    93.12%  97.34%    89.39%      89.12%   93.02%      97.34%   \n",
       "5    95.55%  91.60%   100.00%     100.00%   95.81%      91.60%   \n",
       "6    98.55%  97.15%   100.00%     100.00%   98.60%      97.15%   \n",
       "7    96.09%  92.53%   100.00%     100.00%   96.51%      92.53%   \n",
       "8    88.74%  79.91%   100.00%     100.00%   90.88%      79.91%   \n",
       "\n",
       "  classification_error    AUC          Model  \n",
       "0                4.21%  0.992    NAIVE_BAYES  \n",
       "1                2.44%  0.999            GLM  \n",
       "2                2.79%  1.000         LOGREG  \n",
       "3                2.09%  0.999  DEEP_LEARNING  \n",
       "4                6.98%  0.974  DECISION_TREE  \n",
       "5                4.19%  1.000  RANDOM_FOREST  \n",
       "6                1.40%  1.000            GBT  \n",
       "7                3.49%  0.996            SVM  \n",
       "8                9.12%  0.991            FLM  "
      ]
     },
     "execution_count": 12,
     "metadata": {},
     "output_type": "execute_result"
    }
   ],
   "source": [
    "selection_criteria = 'jupyter_interactive'\n",
    "\n",
    "#Performance Result values of each model\n",
    "jsontoDf = client.resultPerformancePercentageView(selection_criteria)\n",
    "jsontoDf"
   ]
  },
  {
   "cell_type": "code",
   "execution_count": 13,
   "metadata": {},
   "outputs": [
    {
     "data": {
      "text/html": [
       "<div>\n",
       "<style scoped>\n",
       "    .dataframe tbody tr th:only-of-type {\n",
       "        vertical-align: middle;\n",
       "    }\n",
       "\n",
       "    .dataframe tbody tr th {\n",
       "        vertical-align: top;\n",
       "    }\n",
       "\n",
       "    .dataframe thead th {\n",
       "        text-align: right;\n",
       "    }\n",
       "</style>\n",
       "<table border=\"1\" class=\"dataframe\">\n",
       "  <thead>\n",
       "    <tr style=\"text-align: right;\">\n",
       "      <th></th>\n",
       "      <th>attributeName</th>\n",
       "      <th>selected</th>\n",
       "      <th>modelAttributeStatistics.correlation</th>\n",
       "      <th>modelAttributeStatistics.idness</th>\n",
       "      <th>modelAttributeStatistics.stability</th>\n",
       "      <th>modelAttributeStatistics.missingness</th>\n",
       "      <th>modelAttributeStatistics.status</th>\n",
       "      <th>modelAttributeStatistics.qualityTag</th>\n",
       "    </tr>\n",
       "  </thead>\n",
       "  <tbody>\n",
       "    <tr>\n",
       "      <td>0</td>\n",
       "      <td>PaymentMethod</td>\n",
       "      <td>True</td>\n",
       "      <td>16.75%</td>\n",
       "      <td>0.30%</td>\n",
       "      <td>65.20%</td>\n",
       "      <td>0.00%</td>\n",
       "      <td>GREEN</td>\n",
       "      <td>OK</td>\n",
       "    </tr>\n",
       "    <tr>\n",
       "      <td>1</td>\n",
       "      <td>Gender</td>\n",
       "      <td>True</td>\n",
       "      <td>22.51%</td>\n",
       "      <td>0.20%</td>\n",
       "      <td>55.00%</td>\n",
       "      <td>0.00%</td>\n",
       "      <td>GREEN</td>\n",
       "      <td>OK</td>\n",
       "    </tr>\n",
       "    <tr>\n",
       "      <td>2</td>\n",
       "      <td>Age</td>\n",
       "      <td>True</td>\n",
       "      <td>28.17%</td>\n",
       "      <td>?</td>\n",
       "      <td>2.90%</td>\n",
       "      <td>0.00%</td>\n",
       "      <td>GREEN</td>\n",
       "      <td>OK</td>\n",
       "    </tr>\n",
       "  </tbody>\n",
       "</table>\n",
       "</div>"
      ],
      "text/plain": [
       "   attributeName  selected modelAttributeStatistics.correlation  \\\n",
       "0  PaymentMethod      True                               16.75%   \n",
       "1         Gender      True                               22.51%   \n",
       "2            Age      True                               28.17%   \n",
       "\n",
       "  modelAttributeStatistics.idness modelAttributeStatistics.stability  \\\n",
       "0                           0.30%                             65.20%   \n",
       "1                           0.20%                             55.00%   \n",
       "2                               ?                              2.90%   \n",
       "\n",
       "  modelAttributeStatistics.missingness modelAttributeStatistics.status  \\\n",
       "0                                0.00%                           GREEN   \n",
       "1                                0.00%                           GREEN   \n",
       "2                                0.00%                           GREEN   \n",
       "\n",
       "  modelAttributeStatistics.qualityTag  \n",
       "0                                  OK  \n",
       "1                                  OK  \n",
       "2                                  OK  "
      ]
     },
     "execution_count": 13,
     "metadata": {},
     "output_type": "execute_result"
    }
   ],
   "source": [
    "dataInputs"
   ]
  },
  {
   "cell_type": "code",
   "execution_count": 14,
   "metadata": {},
   "outputs": [
    {
     "name": "stdout",
     "output_type": "stream",
     "text": [
      "attributeName has string values so couldn't convert all its values to numbers\n",
      "idness has string values so couldn't convert all its values to numbers\n",
      "status has string values so couldn't convert all its values to numbers\n",
      "qualityTag has string values so couldn't convert all its values to numbers\n"
     ]
    }
   ],
   "source": [
    "#String to float conversion and removes '%' from the data frame values\n",
    "dataInputs = client.rapidDataFrameNormalizer(dataInputs)"
   ]
  },
  {
   "cell_type": "code",
   "execution_count": 15,
   "metadata": {},
   "outputs": [
    {
     "data": {
      "text/html": [
       "<div>\n",
       "<style scoped>\n",
       "    .dataframe tbody tr th:only-of-type {\n",
       "        vertical-align: middle;\n",
       "    }\n",
       "\n",
       "    .dataframe tbody tr th {\n",
       "        vertical-align: top;\n",
       "    }\n",
       "\n",
       "    .dataframe thead th {\n",
       "        text-align: right;\n",
       "    }\n",
       "</style>\n",
       "<table border=\"1\" class=\"dataframe\">\n",
       "  <thead>\n",
       "    <tr style=\"text-align: right;\">\n",
       "      <th></th>\n",
       "      <th>attributeName</th>\n",
       "      <th>selected</th>\n",
       "      <th>correlation</th>\n",
       "      <th>idness</th>\n",
       "      <th>stability</th>\n",
       "      <th>missingness</th>\n",
       "      <th>status</th>\n",
       "      <th>qualityTag</th>\n",
       "    </tr>\n",
       "  </thead>\n",
       "  <tbody>\n",
       "    <tr>\n",
       "      <td>0</td>\n",
       "      <td>PaymentMethod</td>\n",
       "      <td>1.0</td>\n",
       "      <td>16.75</td>\n",
       "      <td>0.30</td>\n",
       "      <td>65.2</td>\n",
       "      <td>0.0</td>\n",
       "      <td>GREEN</td>\n",
       "      <td>OK</td>\n",
       "    </tr>\n",
       "    <tr>\n",
       "      <td>1</td>\n",
       "      <td>Gender</td>\n",
       "      <td>1.0</td>\n",
       "      <td>22.51</td>\n",
       "      <td>0.20</td>\n",
       "      <td>55.0</td>\n",
       "      <td>0.0</td>\n",
       "      <td>GREEN</td>\n",
       "      <td>OK</td>\n",
       "    </tr>\n",
       "    <tr>\n",
       "      <td>2</td>\n",
       "      <td>Age</td>\n",
       "      <td>1.0</td>\n",
       "      <td>28.17</td>\n",
       "      <td>?</td>\n",
       "      <td>2.9</td>\n",
       "      <td>0.0</td>\n",
       "      <td>GREEN</td>\n",
       "      <td>OK</td>\n",
       "    </tr>\n",
       "  </tbody>\n",
       "</table>\n",
       "</div>"
      ],
      "text/plain": [
       "   attributeName  selected  correlation idness  stability  missingness status  \\\n",
       "0  PaymentMethod       1.0        16.75   0.30       65.2          0.0  GREEN   \n",
       "1         Gender       1.0        22.51   0.20       55.0          0.0  GREEN   \n",
       "2            Age       1.0        28.17      ?        2.9          0.0  GREEN   \n",
       "\n",
       "  qualityTag  \n",
       "0         OK  \n",
       "1         OK  \n",
       "2         OK  "
      ]
     },
     "execution_count": 15,
     "metadata": {},
     "output_type": "execute_result"
    }
   ],
   "source": [
    "dataInputs"
   ]
  },
  {
   "cell_type": "code",
   "execution_count": 16,
   "metadata": {},
   "outputs": [
    {
     "data": {
      "image/png": "[encoded data removed]",
      "text/plain": [
       "<Figure size 1440x576 with 2 Axes>"
      ]
     },
     "metadata": {
      "needs_background": "light"
     },
     "output_type": "display_data"
    }
   ],
   "source": [
    "#client.plotBarGraph(input_DataFrame, x-axis, y-axis, color segmentation, y-axis max val, width, height)\n",
    "client.plotBarGraph(dataInputs, 'attributeName', 'correlation', 8, 35, 20,8).show()"
   ]
  },
  {
   "cell_type": "code",
   "execution_count": 17,
   "metadata": {},
   "outputs": [
    {
     "data": {
      "image/png": "[encoded data removed]",
      "text/plain": [
       "<Figure size 720x576 with 2 Axes>"
      ]
     },
     "metadata": {
      "needs_background": "light"
     },
     "output_type": "display_data"
    }
   ],
   "source": [
    "client.plotBarGraph(dataInputs, 'attributeName', 'stability', 10, 75, 10,8).show()"
   ]
  },
  {
   "cell_type": "code",
   "execution_count": 18,
   "metadata": {},
   "outputs": [
    {
     "data": {
      "image/png": "[encoded data removed]",
      "text/plain": [
       "<Figure size 720x576 with 2 Axes>"
      ]
     },
     "metadata": {
      "needs_background": "light"
     },
     "output_type": "display_data"
    }
   ],
   "source": [
    "client.plotBarGraph(dataInputs, 'attributeName', 'missingness', 10, 10, 10,8).show()"
   ]
  },
  {
   "cell_type": "code",
   "execution_count": 19,
   "metadata": {},
   "outputs": [
    {
     "data": {
      "text/html": [
       "<div>\n",
       "<style scoped>\n",
       "    .dataframe tbody tr th:only-of-type {\n",
       "        vertical-align: middle;\n",
       "    }\n",
       "\n",
       "    .dataframe tbody tr th {\n",
       "        vertical-align: top;\n",
       "    }\n",
       "\n",
       "    .dataframe thead th {\n",
       "        text-align: right;\n",
       "    }\n",
       "</style>\n",
       "<table border=\"1\" class=\"dataframe\">\n",
       "  <thead>\n",
       "    <tr style=\"text-align: right;\">\n",
       "      <th></th>\n",
       "      <th>f_measure</th>\n",
       "      <th>recall</th>\n",
       "      <th>precision</th>\n",
       "      <th>specificity</th>\n",
       "      <th>accuracy</th>\n",
       "      <th>sensitivity</th>\n",
       "      <th>classification_error</th>\n",
       "      <th>AUC</th>\n",
       "      <th>Model</th>\n",
       "    </tr>\n",
       "  </thead>\n",
       "  <tbody>\n",
       "    <tr>\n",
       "      <td>0</td>\n",
       "      <td>94.95%</td>\n",
       "      <td>90.40%</td>\n",
       "      <td>100.00%</td>\n",
       "      <td>100.00%</td>\n",
       "      <td>95.79%</td>\n",
       "      <td>90.40%</td>\n",
       "      <td>4.21%</td>\n",
       "      <td>0.992</td>\n",
       "      <td>NAIVE_BAYES</td>\n",
       "    </tr>\n",
       "    <tr>\n",
       "      <td>1</td>\n",
       "      <td>97.41%</td>\n",
       "      <td>95.79%</td>\n",
       "      <td>99.13%</td>\n",
       "      <td>99.41%</td>\n",
       "      <td>97.56%</td>\n",
       "      <td>95.79%</td>\n",
       "      <td>2.44%</td>\n",
       "      <td>0.999</td>\n",
       "      <td>GLM</td>\n",
       "    </tr>\n",
       "    <tr>\n",
       "      <td>2</td>\n",
       "      <td>97.07%</td>\n",
       "      <td>94.34%</td>\n",
       "      <td>100.00%</td>\n",
       "      <td>100.00%</td>\n",
       "      <td>97.21%</td>\n",
       "      <td>94.34%</td>\n",
       "      <td>2.79%</td>\n",
       "      <td>1.000</td>\n",
       "      <td>LOGREG</td>\n",
       "    </tr>\n",
       "    <tr>\n",
       "      <td>3</td>\n",
       "      <td>97.74%</td>\n",
       "      <td>96.42%</td>\n",
       "      <td>99.13%</td>\n",
       "      <td>99.41%</td>\n",
       "      <td>97.91%</td>\n",
       "      <td>96.42%</td>\n",
       "      <td>2.09%</td>\n",
       "      <td>0.999</td>\n",
       "      <td>DEEP_LEARNING</td>\n",
       "    </tr>\n",
       "    <tr>\n",
       "      <td>4</td>\n",
       "      <td>93.12%</td>\n",
       "      <td>97.34%</td>\n",
       "      <td>89.39%</td>\n",
       "      <td>89.12%</td>\n",
       "      <td>93.02%</td>\n",
       "      <td>97.34%</td>\n",
       "      <td>6.98%</td>\n",
       "      <td>0.974</td>\n",
       "      <td>DECISION_TREE</td>\n",
       "    </tr>\n",
       "    <tr>\n",
       "      <td>5</td>\n",
       "      <td>95.55%</td>\n",
       "      <td>91.60%</td>\n",
       "      <td>100.00%</td>\n",
       "      <td>100.00%</td>\n",
       "      <td>95.81%</td>\n",
       "      <td>91.60%</td>\n",
       "      <td>4.19%</td>\n",
       "      <td>1.000</td>\n",
       "      <td>RANDOM_FOREST</td>\n",
       "    </tr>\n",
       "    <tr>\n",
       "      <td>6</td>\n",
       "      <td>98.55%</td>\n",
       "      <td>97.15%</td>\n",
       "      <td>100.00%</td>\n",
       "      <td>100.00%</td>\n",
       "      <td>98.60%</td>\n",
       "      <td>97.15%</td>\n",
       "      <td>1.40%</td>\n",
       "      <td>1.000</td>\n",
       "      <td>GBT</td>\n",
       "    </tr>\n",
       "    <tr>\n",
       "      <td>7</td>\n",
       "      <td>96.09%</td>\n",
       "      <td>92.53%</td>\n",
       "      <td>100.00%</td>\n",
       "      <td>100.00%</td>\n",
       "      <td>96.51%</td>\n",
       "      <td>92.53%</td>\n",
       "      <td>3.49%</td>\n",
       "      <td>0.996</td>\n",
       "      <td>SVM</td>\n",
       "    </tr>\n",
       "    <tr>\n",
       "      <td>8</td>\n",
       "      <td>88.74%</td>\n",
       "      <td>79.91%</td>\n",
       "      <td>100.00%</td>\n",
       "      <td>100.00%</td>\n",
       "      <td>90.88%</td>\n",
       "      <td>79.91%</td>\n",
       "      <td>9.12%</td>\n",
       "      <td>0.991</td>\n",
       "      <td>FLM</td>\n",
       "    </tr>\n",
       "  </tbody>\n",
       "</table>\n",
       "</div>"
      ],
      "text/plain": [
       "  f_measure  recall precision specificity accuracy sensitivity  \\\n",
       "0    94.95%  90.40%   100.00%     100.00%   95.79%      90.40%   \n",
       "1    97.41%  95.79%    99.13%      99.41%   97.56%      95.79%   \n",
       "2    97.07%  94.34%   100.00%     100.00%   97.21%      94.34%   \n",
       "3    97.74%  96.42%    99.13%      99.41%   97.91%      96.42%   \n",
       "4    93.12%  97.34%    89.39%      89.12%   93.02%      97.34%   \n",
       "5    95.55%  91.60%   100.00%     100.00%   95.81%      91.60%   \n",
       "6    98.55%  97.15%   100.00%     100.00%   98.60%      97.15%   \n",
       "7    96.09%  92.53%   100.00%     100.00%   96.51%      92.53%   \n",
       "8    88.74%  79.91%   100.00%     100.00%   90.88%      79.91%   \n",
       "\n",
       "  classification_error    AUC          Model  \n",
       "0                4.21%  0.992    NAIVE_BAYES  \n",
       "1                2.44%  0.999            GLM  \n",
       "2                2.79%  1.000         LOGREG  \n",
       "3                2.09%  0.999  DEEP_LEARNING  \n",
       "4                6.98%  0.974  DECISION_TREE  \n",
       "5                4.19%  1.000  RANDOM_FOREST  \n",
       "6                1.40%  1.000            GBT  \n",
       "7                3.49%  0.996            SVM  \n",
       "8                9.12%  0.991            FLM  "
      ]
     },
     "execution_count": 19,
     "metadata": {},
     "output_type": "execute_result"
    }
   ],
   "source": [
    "jsontoDf"
   ]
  },
  {
   "cell_type": "code",
   "execution_count": 20,
   "metadata": {},
   "outputs": [
    {
     "name": "stdout",
     "output_type": "stream",
     "text": [
      "Model has string values so couldn't convert all its values to numbers\n"
     ]
    }
   ],
   "source": [
    "#String to float conversion and removes '%' from the data frame values\n",
    "jsontoDf = client.rapidDataFrameNormalizer(jsontoDf)"
   ]
  },
  {
   "cell_type": "code",
   "execution_count": 21,
   "metadata": {},
   "outputs": [
    {
     "data": {
      "text/html": [
       "<div>\n",
       "<style scoped>\n",
       "    .dataframe tbody tr th:only-of-type {\n",
       "        vertical-align: middle;\n",
       "    }\n",
       "\n",
       "    .dataframe tbody tr th {\n",
       "        vertical-align: top;\n",
       "    }\n",
       "\n",
       "    .dataframe thead th {\n",
       "        text-align: right;\n",
       "    }\n",
       "</style>\n",
       "<table border=\"1\" class=\"dataframe\">\n",
       "  <thead>\n",
       "    <tr style=\"text-align: right;\">\n",
       "      <th></th>\n",
       "      <th>f_measure</th>\n",
       "      <th>recall</th>\n",
       "      <th>precision</th>\n",
       "      <th>specificity</th>\n",
       "      <th>accuracy</th>\n",
       "      <th>sensitivity</th>\n",
       "      <th>classification_error</th>\n",
       "      <th>AUC</th>\n",
       "      <th>Model</th>\n",
       "    </tr>\n",
       "  </thead>\n",
       "  <tbody>\n",
       "    <tr>\n",
       "      <td>0</td>\n",
       "      <td>94.95</td>\n",
       "      <td>90.40</td>\n",
       "      <td>100.00</td>\n",
       "      <td>100.00</td>\n",
       "      <td>95.79</td>\n",
       "      <td>90.40</td>\n",
       "      <td>4.21</td>\n",
       "      <td>0.992</td>\n",
       "      <td>NAIVE_BAYES</td>\n",
       "    </tr>\n",
       "    <tr>\n",
       "      <td>1</td>\n",
       "      <td>97.41</td>\n",
       "      <td>95.79</td>\n",
       "      <td>99.13</td>\n",
       "      <td>99.41</td>\n",
       "      <td>97.56</td>\n",
       "      <td>95.79</td>\n",
       "      <td>2.44</td>\n",
       "      <td>0.999</td>\n",
       "      <td>GLM</td>\n",
       "    </tr>\n",
       "    <tr>\n",
       "      <td>2</td>\n",
       "      <td>97.07</td>\n",
       "      <td>94.34</td>\n",
       "      <td>100.00</td>\n",
       "      <td>100.00</td>\n",
       "      <td>97.21</td>\n",
       "      <td>94.34</td>\n",
       "      <td>2.79</td>\n",
       "      <td>1.000</td>\n",
       "      <td>LOGREG</td>\n",
       "    </tr>\n",
       "    <tr>\n",
       "      <td>3</td>\n",
       "      <td>97.74</td>\n",
       "      <td>96.42</td>\n",
       "      <td>99.13</td>\n",
       "      <td>99.41</td>\n",
       "      <td>97.91</td>\n",
       "      <td>96.42</td>\n",
       "      <td>2.09</td>\n",
       "      <td>0.999</td>\n",
       "      <td>DEEP_LEARNING</td>\n",
       "    </tr>\n",
       "    <tr>\n",
       "      <td>4</td>\n",
       "      <td>93.12</td>\n",
       "      <td>97.34</td>\n",
       "      <td>89.39</td>\n",
       "      <td>89.12</td>\n",
       "      <td>93.02</td>\n",
       "      <td>97.34</td>\n",
       "      <td>6.98</td>\n",
       "      <td>0.974</td>\n",
       "      <td>DECISION_TREE</td>\n",
       "    </tr>\n",
       "    <tr>\n",
       "      <td>5</td>\n",
       "      <td>95.55</td>\n",
       "      <td>91.60</td>\n",
       "      <td>100.00</td>\n",
       "      <td>100.00</td>\n",
       "      <td>95.81</td>\n",
       "      <td>91.60</td>\n",
       "      <td>4.19</td>\n",
       "      <td>1.000</td>\n",
       "      <td>RANDOM_FOREST</td>\n",
       "    </tr>\n",
       "    <tr>\n",
       "      <td>6</td>\n",
       "      <td>98.55</td>\n",
       "      <td>97.15</td>\n",
       "      <td>100.00</td>\n",
       "      <td>100.00</td>\n",
       "      <td>98.60</td>\n",
       "      <td>97.15</td>\n",
       "      <td>1.40</td>\n",
       "      <td>1.000</td>\n",
       "      <td>GBT</td>\n",
       "    </tr>\n",
       "    <tr>\n",
       "      <td>7</td>\n",
       "      <td>96.09</td>\n",
       "      <td>92.53</td>\n",
       "      <td>100.00</td>\n",
       "      <td>100.00</td>\n",
       "      <td>96.51</td>\n",
       "      <td>92.53</td>\n",
       "      <td>3.49</td>\n",
       "      <td>0.996</td>\n",
       "      <td>SVM</td>\n",
       "    </tr>\n",
       "    <tr>\n",
       "      <td>8</td>\n",
       "      <td>88.74</td>\n",
       "      <td>79.91</td>\n",
       "      <td>100.00</td>\n",
       "      <td>100.00</td>\n",
       "      <td>90.88</td>\n",
       "      <td>79.91</td>\n",
       "      <td>9.12</td>\n",
       "      <td>0.991</td>\n",
       "      <td>FLM</td>\n",
       "    </tr>\n",
       "  </tbody>\n",
       "</table>\n",
       "</div>"
      ],
      "text/plain": [
       "   f_measure  recall  precision  specificity  accuracy  sensitivity  \\\n",
       "0      94.95   90.40     100.00       100.00     95.79        90.40   \n",
       "1      97.41   95.79      99.13        99.41     97.56        95.79   \n",
       "2      97.07   94.34     100.00       100.00     97.21        94.34   \n",
       "3      97.74   96.42      99.13        99.41     97.91        96.42   \n",
       "4      93.12   97.34      89.39        89.12     93.02        97.34   \n",
       "5      95.55   91.60     100.00       100.00     95.81        91.60   \n",
       "6      98.55   97.15     100.00       100.00     98.60        97.15   \n",
       "7      96.09   92.53     100.00       100.00     96.51        92.53   \n",
       "8      88.74   79.91     100.00       100.00     90.88        79.91   \n",
       "\n",
       "   classification_error    AUC          Model  \n",
       "0                  4.21  0.992    NAIVE_BAYES  \n",
       "1                  2.44  0.999            GLM  \n",
       "2                  2.79  1.000         LOGREG  \n",
       "3                  2.09  0.999  DEEP_LEARNING  \n",
       "4                  6.98  0.974  DECISION_TREE  \n",
       "5                  4.19  1.000  RANDOM_FOREST  \n",
       "6                  1.40  1.000            GBT  \n",
       "7                  3.49  0.996            SVM  \n",
       "8                  9.12  0.991            FLM  "
      ]
     },
     "execution_count": 21,
     "metadata": {},
     "output_type": "execute_result"
    }
   ],
   "source": [
    "jsontoDf"
   ]
  },
  {
   "cell_type": "code",
   "execution_count": 22,
   "metadata": {},
   "outputs": [
    {
     "data": {
      "image/png": "[encoded data removed]",
      "text/plain": [
       "<Figure size 1440x576 with 2 Axes>"
      ]
     },
     "metadata": {
      "needs_background": "light"
     },
     "output_type": "display_data"
    }
   ],
   "source": [
    "client.plotBarGraph(jsontoDf, 'Model', 'accuracy', 10, 120, 20,8).show()"
   ]
  },
  {
   "cell_type": "code",
   "execution_count": 23,
   "metadata": {},
   "outputs": [
    {
     "data": {
      "image/png": "[encoded data removed]",
      "text/plain": [
       "<Figure size 1440x576 with 2 Axes>"
      ]
     },
     "metadata": {
      "needs_background": "light"
     },
     "output_type": "display_data"
    }
   ],
   "source": [
    "client.plotBarGraph(jsontoDf, 'Model', 'sensitivity', 10, 120, 20,8).show()"
   ]
  },
  {
   "cell_type": "code",
   "execution_count": 24,
   "metadata": {},
   "outputs": [
    {
     "data": {
      "image/png": "[encoded data removed]",
      "text/plain": [
       "<Figure size 1440x576 with 2 Axes>"
      ]
     },
     "metadata": {
      "needs_background": "light"
     },
     "output_type": "display_data"
    }
   ],
   "source": [
    "client.plotBarGraph(jsontoDf, 'Model', 'AUC', 10, 1.2, 20,8).show()"
   ]
  },
  {
   "cell_type": "code",
   "execution_count": 25,
   "metadata": {},
   "outputs": [
    {
     "data": {
      "image/png": "[encoded data removed]",
      "text/plain": [
       "<Figure size 1440x576 with 2 Axes>"
      ]
     },
     "metadata": {
      "needs_background": "light"
     },
     "output_type": "display_data"
    }
   ],
   "source": [
    "client.plotBarGraph(jsontoDf, 'Model', 'precision', 10, 120, 20,8).show()"
   ]
  },
  {
   "cell_type": "code",
   "execution_count": 26,
   "metadata": {},
   "outputs": [
    {
     "data": {
      "image/png": "[encoded data removed]",
      "text/plain": [
       "<Figure size 1440x576 with 2 Axes>"
      ]
     },
     "metadata": {
      "needs_background": "light"
     },
     "output_type": "display_data"
    }
   ],
   "source": [
    "client.plotBarGraph(jsontoDf, 'Model', 'specificity', 10, 120, 20,8).show()"
   ]
  },
  {
   "cell_type": "code",
   "execution_count": 27,
   "metadata": {},
   "outputs": [
    {
     "name": "stdout",
     "output_type": "stream",
     "text": [
      "Inside determine_best_model function\n",
      "['performance', 'percentages', 'accuracy']\n",
      "check model : WEIGHTS\n",
      "Wrong feature:performance not available in the result\n",
      "check model : NAIVE_BAYES\n",
      "95.79\n",
      "False\n",
      "check model : GLM\n",
      "97.56\n",
      "False\n",
      "check model : LOGREG\n",
      "97.21\n",
      "False\n",
      "check model : DEEP_LEARNING\n",
      "97.91\n",
      "False\n",
      "check model : DECISION_TREE\n",
      "93.02\n",
      "False\n",
      "check model : RANDOM_FOREST\n",
      "95.81\n",
      "False\n",
      "check model : GBT\n",
      "98.60\n",
      "False\n",
      "check model : SVM\n",
      "96.51\n",
      "False\n",
      "check model : FLM\n",
      "90.88\n",
      "False\n",
      "Exiting determine_best_model function with BestModel:GBT\n"
     ]
    }
   ],
   "source": [
    "selection_criteria = 'performance_accuracy'\n",
    "#to get the bests model\n",
    "bestModel = client.determine_best_model(selection_criteria,max_min_crietria_selector)"
   ]
  },
  {
   "cell_type": "code",
   "execution_count": 28,
   "metadata": {},
   "outputs": [
    {
     "name": "stdout",
     "output_type": "stream",
     "text": [
      "\n",
      "\n",
      "Deployed GBT :\n",
      " {\n",
      "    \"createdAt\": \"Mar 25, 2020 9:07:35 PM\",\n",
      "    \"displayName\": \"Predicting FutureCustomer in Deals.json\",\n",
      "    \"id\": \"952d87e0-9d2f-43b7-badd-b55f9589c049\",\n",
      "    \"modelType\": \"GBT\",\n",
      "    \"modelingTaskId\": \"041bc57c-1c3c-4ad8-ba98-2a15d29bf14c\",\n",
      "    \"modelingTaskLabel\": \"FutureCustomer\",\n",
      "    \"ownerId\": \"cf8f9e19-5936-4ff5-9085-283f82f77fc7\",\n",
      "    \"url\": \"/am/api/deployments/952d87e0-9d2f-43b7-badd-b55f9589c049\"\n",
      "}\n"
     ]
    }
   ],
   "source": [
    "depID = client.deploy_model(modelingTaskID, bestModel)"
   ]
  },
  {
   "cell_type": "markdown",
   "metadata": {},
   "source": [
    "# Scoring:"
   ]
  },
  {
   "cell_type": "code",
   "execution_count": 29,
   "metadata": {},
   "outputs": [],
   "source": [
    "test = pd.read_csv(\"C:\\\\Users\\\\VenkateshkumarSivaku\\\\Desktop\\\\Interactive data\\\\Deals-Score.csv\")"
   ]
  },
  {
   "cell_type": "code",
   "execution_count": 30,
   "metadata": {},
   "outputs": [],
   "source": [
    "#dataframe to json\n",
    "inputScoreData = client.rapidDataFrameToJson(test)"
   ]
  },
  {
   "cell_type": "code",
   "execution_count": 31,
   "metadata": {},
   "outputs": [],
   "source": [
    "# passing the test data to deployed model to score\n",
    "scoreResult = client.score(inputScoreData, depID)"
   ]
  },
  {
   "cell_type": "code",
   "execution_count": 32,
   "metadata": {},
   "outputs": [],
   "source": [
    "PREDICTION = 'prediction(' + LABEL_ATTRIBUTE + ')'\n",
    "# converting result json to dataframe\n",
    "result = client.convert_json_to_dataframe(scoreResult['data'])\n",
    "req = client.convert_json_to_dataframe(inputScoreData)\n",
    "\n",
    "# List to add the result data\n",
    "prediction = []\n",
    "\n",
    "# Number of records in input\n",
    "max_length = len(req.index)\n",
    "\n",
    "# Adding confidence and predictions to a list\n",
    "for i in range(0, max_length):\n",
    "    prediction.append(result.iloc[i][PREDICTION])\n",
    "    \n",
    "test[PREDICTION] = prediction"
   ]
  },
  {
   "cell_type": "code",
   "execution_count": 33,
   "metadata": {},
   "outputs": [
    {
     "data": {
      "text/html": [
       "<div>\n",
       "<style scoped>\n",
       "    .dataframe tbody tr th:only-of-type {\n",
       "        vertical-align: middle;\n",
       "    }\n",
       "\n",
       "    .dataframe tbody tr th {\n",
       "        vertical-align: top;\n",
       "    }\n",
       "\n",
       "    .dataframe thead th {\n",
       "        text-align: right;\n",
       "    }\n",
       "</style>\n",
       "<table border=\"1\" class=\"dataframe\">\n",
       "  <thead>\n",
       "    <tr style=\"text-align: right;\">\n",
       "      <th></th>\n",
       "      <th>Row No.</th>\n",
       "      <th>Age</th>\n",
       "      <th>Gender</th>\n",
       "      <th>PaymentMethod</th>\n",
       "      <th>prediction(FutureCustomer)</th>\n",
       "    </tr>\n",
       "  </thead>\n",
       "  <tbody>\n",
       "    <tr>\n",
       "      <td>0</td>\n",
       "      <td>1</td>\n",
       "      <td>64</td>\n",
       "      <td>male</td>\n",
       "      <td>credit card</td>\n",
       "      <td>yes</td>\n",
       "    </tr>\n",
       "    <tr>\n",
       "      <td>1</td>\n",
       "      <td>2</td>\n",
       "      <td>35</td>\n",
       "      <td>male</td>\n",
       "      <td>cheque</td>\n",
       "      <td>no</td>\n",
       "    </tr>\n",
       "    <tr>\n",
       "      <td>2</td>\n",
       "      <td>3</td>\n",
       "      <td>25</td>\n",
       "      <td>female</td>\n",
       "      <td>credit card</td>\n",
       "      <td>yes</td>\n",
       "    </tr>\n",
       "    <tr>\n",
       "      <td>3</td>\n",
       "      <td>4</td>\n",
       "      <td>39</td>\n",
       "      <td>female</td>\n",
       "      <td>credit card</td>\n",
       "      <td>no</td>\n",
       "    </tr>\n",
       "    <tr>\n",
       "      <td>4</td>\n",
       "      <td>5</td>\n",
       "      <td>39</td>\n",
       "      <td>male</td>\n",
       "      <td>credit card</td>\n",
       "      <td>yes</td>\n",
       "    </tr>\n",
       "    <tr>\n",
       "      <td>...</td>\n",
       "      <td>...</td>\n",
       "      <td>...</td>\n",
       "      <td>...</td>\n",
       "      <td>...</td>\n",
       "      <td>...</td>\n",
       "    </tr>\n",
       "    <tr>\n",
       "      <td>995</td>\n",
       "      <td>996</td>\n",
       "      <td>29</td>\n",
       "      <td>female</td>\n",
       "      <td>credit card</td>\n",
       "      <td>yes</td>\n",
       "    </tr>\n",
       "    <tr>\n",
       "      <td>996</td>\n",
       "      <td>997</td>\n",
       "      <td>84</td>\n",
       "      <td>male</td>\n",
       "      <td>credit card</td>\n",
       "      <td>no</td>\n",
       "    </tr>\n",
       "    <tr>\n",
       "      <td>997</td>\n",
       "      <td>998</td>\n",
       "      <td>20</td>\n",
       "      <td>male</td>\n",
       "      <td>credit card</td>\n",
       "      <td>yes</td>\n",
       "    </tr>\n",
       "    <tr>\n",
       "      <td>998</td>\n",
       "      <td>999</td>\n",
       "      <td>19</td>\n",
       "      <td>male</td>\n",
       "      <td>credit card</td>\n",
       "      <td>yes</td>\n",
       "    </tr>\n",
       "    <tr>\n",
       "      <td>999</td>\n",
       "      <td>1000</td>\n",
       "      <td>24</td>\n",
       "      <td>female</td>\n",
       "      <td>credit card</td>\n",
       "      <td>yes</td>\n",
       "    </tr>\n",
       "  </tbody>\n",
       "</table>\n",
       "<p>1000 rows × 5 columns</p>\n",
       "</div>"
      ],
      "text/plain": [
       "     Row No.  Age  Gender PaymentMethod prediction(FutureCustomer)\n",
       "0          1   64    male   credit card                        yes\n",
       "1          2   35    male        cheque                         no\n",
       "2          3   25  female   credit card                        yes\n",
       "3          4   39  female   credit card                         no\n",
       "4          5   39    male   credit card                        yes\n",
       "..       ...  ...     ...           ...                        ...\n",
       "995      996   29  female   credit card                        yes\n",
       "996      997   84    male   credit card                         no\n",
       "997      998   20    male   credit card                        yes\n",
       "998      999   19    male   credit card                        yes\n",
       "999     1000   24  female   credit card                        yes\n",
       "\n",
       "[1000 rows x 5 columns]"
      ]
     },
     "execution_count": 33,
     "metadata": {},
     "output_type": "execute_result"
    }
   ],
   "source": [
    "test"
   ]
  },
  {
   "cell_type": "code",
   "execution_count": null,
   "metadata": {},
   "outputs": [],
   "source": []
  }
 ],
 "metadata": {
  "kernelspec": {
   "display_name": "Python 3",
   "language": "python",
   "name": "python3"
  },
  "language_info": {
   "codemirror_mode": {
    "name": "ipython",
    "version": 3
   },
   "file_extension": ".py",
   "mimetype": "text/x-python",
   "name": "python",
   "nbconvert_exporter": "python",
   "pygments_lexer": "ipython3",
   "version": "3.7.4"
  }
 },
 "nbformat": 4,
 "nbformat_minor": 2
}
